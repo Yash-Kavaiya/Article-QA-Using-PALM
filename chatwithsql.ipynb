{
 "cells": [
  {
   "cell_type": "code",
   "execution_count": 1,
   "metadata": {},
   "outputs": [],
   "source": [
    "# @markdown Please fill in the both the Google Cloud region and name of your Cloud SQL instance.\n",
    "REGION = \"us-central1\"  # @param {type:\"string\"}\n",
    "INSTANCE = \"chatwithdbb\"  # @param {type:\"string\"}\n",
    "\n",
    "# @markdown Please specify a database and a table for demo purpose.\n",
    "DATABASE = \"ClassicModels\"  # @param {type:\"string\"}\n",
    "TABLE_NAME = \"Customers\"  # @param {type:\"string\"}"
   ]
  },
  {
   "cell_type": "code",
   "execution_count": 2,
   "metadata": {},
   "outputs": [
    {
     "ename": "ModuleNotFoundError",
     "evalue": "No module named 'langchain_google_cloud_sql_mysql'",
     "output_type": "error",
     "traceback": [
      "\u001b[0;31m---------------------------------------------------------------------------\u001b[0m",
      "\u001b[0;31mModuleNotFoundError\u001b[0m                       Traceback (most recent call last)",
      "\u001b[1;32m/workspaces/Article-QA-Using-PALM/chatwithsql.ipynb Cell 2\u001b[0m line \u001b[0;36m1\n\u001b[0;32m----> <a href='vscode-notebook-cell://codespaces%2Bsolid-chainsaw-577946g7v4w24rrg/workspaces/Article-QA-Using-PALM/chatwithsql.ipynb#W0sdnNjb2RlLXJlbW90ZQ%3D%3D?line=0'>1</a>\u001b[0m \u001b[39mfrom\u001b[39;00m \u001b[39mlangchain_google_cloud_sql_mysql\u001b[39;00m \u001b[39mimport\u001b[39;00m MySQLEngine\n\u001b[1;32m      <a href='vscode-notebook-cell://codespaces%2Bsolid-chainsaw-577946g7v4w24rrg/workspaces/Article-QA-Using-PALM/chatwithsql.ipynb#W0sdnNjb2RlLXJlbW90ZQ%3D%3D?line=2'>3</a>\u001b[0m engine \u001b[39m=\u001b[39m MySQLEngine\u001b[39m.\u001b[39mfrom_instance(\n\u001b[1;32m      <a href='vscode-notebook-cell://codespaces%2Bsolid-chainsaw-577946g7v4w24rrg/workspaces/Article-QA-Using-PALM/chatwithsql.ipynb#W0sdnNjb2RlLXJlbW90ZQ%3D%3D?line=3'>4</a>\u001b[0m     project_id\u001b[39m=\u001b[39mPROJECT_ID, region\u001b[39m=\u001b[39mREGION, instance\u001b[39m=\u001b[39mINSTANCE, database\u001b[39m=\u001b[39mDATABASE\n\u001b[1;32m      <a href='vscode-notebook-cell://codespaces%2Bsolid-chainsaw-577946g7v4w24rrg/workspaces/Article-QA-Using-PALM/chatwithsql.ipynb#W0sdnNjb2RlLXJlbW90ZQ%3D%3D?line=4'>5</a>\u001b[0m )\n",
      "\u001b[0;31mModuleNotFoundError\u001b[0m: No module named 'langchain_google_cloud_sql_mysql'"
     ]
    }
   ],
   "source": [
    "from langchain_google_cloud_sql_mysql import MySQLEngine\n",
    "\n",
    "engine = MySQLEngine.from_instance(\n",
    "    project_id=PROJECT_ID, region=REGION, instance=INSTANCE, database=DATABASE\n",
    ")"
   ]
  },
  {
   "cell_type": "code",
   "execution_count": null,
   "metadata": {},
   "outputs": [],
   "source": []
  }
 ],
 "metadata": {
  "language_info": {
   "name": "python"
  }
 },
 "nbformat": 4,
 "nbformat_minor": 2
}
